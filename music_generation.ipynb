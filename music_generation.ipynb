{
  "nbformat": 4,
  "nbformat_minor": 0,
  "metadata": {
    "colab": {
      "name": "music_generation.ipynb",
      "provenance": [],
      "collapsed_sections": []
    },
    "kernelspec": {
      "name": "python3",
      "display_name": "Python 3"
    },
    "language_info": {
      "name": "python"
    },
    "accelerator": "GPU"
  },
  "cells": [
    {
      "cell_type": "markdown",
      "metadata": {
        "id": "5pZ1qMy7jgyK"
      },
      "source": [
        "####Music 21 is a Python library developed by MIT for understanding music data. MIDI is a standard format for storing music files. MIDI stands for Musical Instrument Digital Interface. MIDI files contain the instructions rather than the actual audio. Hence, it occupies very little memory. That’s why it is usually preferred while transferring files"
      ]
    },
    {
      "cell_type": "code",
      "metadata": {
        "id": "chY2VJD2jibA"
      },
      "source": [
        "from music21 import *"
      ],
      "execution_count": null,
      "outputs": []
    },
    {
      "cell_type": "code",
      "metadata": {
        "id": "II-W8pHGj9Qh"
      },
      "source": [
        "#defining function to read MIDI files\n",
        "def read_midi(file):\n",
        "    \n",
        "    print(\"Loading Music File:\",file)\n",
        "    \n",
        "    notes=[]\n",
        "    notes_to_parse = None\n",
        "    \n",
        "    #parsing a midi file\n",
        "    midi = converter.parse(file)\n",
        "  \n",
        "    #grouping based on different instruments\n",
        "    s2 = instrument.partitionByInstrument(midi)\n",
        "\n",
        "    #Looping over all the instruments\n",
        "    for part in s2.parts:\n",
        "    \n",
        "        #select elements of only piano\n",
        "        if 'Piano' in str(part): \n",
        "        \n",
        "            notes_to_parse = part.recurse() \n",
        "      \n",
        "            #finding whether a particular element is note or a chord\n",
        "            for element in notes_to_parse:\n",
        "                \n",
        "                #note\n",
        "                if isinstance(element, note.Note):\n",
        "                    notes.append(str(element.pitch))\n",
        "                \n",
        "                #chord\n",
        "                elif isinstance(element, chord.Chord):\n",
        "                    notes.append('.'.join(str(n) for n in element.normalOrder))\n",
        "\n",
        "    return np.array(notes)"
      ],
      "execution_count": null,
      "outputs": []
    },
    {
      "cell_type": "code",
      "metadata": {
        "colab": {
          "base_uri": "https://localhost:8080/"
        },
        "id": "LfoPAS1_mEbK",
        "outputId": "264194d3-33eb-4288-b23f-d024d4bc1ab9"
      },
      "source": [
        "import os\n",
        "import numpy as np\n",
        "path = '/content/drive/MyDrive/music gen/'\n",
        "\n",
        "# read all file names\n",
        "files = [i for i in os.listdir(path) if i.endswith('.mid')]\n",
        "\n",
        "# reading each midi file\n",
        "notes_array = np.array([read_midi(path+i) for i in files])"
      ],
      "execution_count": null,
      "outputs": [
        {
          "output_type": "stream",
          "text": [
            "Loading Music File: /content/drive/MyDrive/music gen/schubert_D850_1.mid\n",
            "Loading Music File: /content/drive/MyDrive/music gen/schubert_D850_2.mid\n",
            "Loading Music File: /content/drive/MyDrive/music gen/schubert_D850_3.mid\n",
            "Loading Music File: /content/drive/MyDrive/music gen/schubert_D850_4.mid\n",
            "Loading Music File: /content/drive/MyDrive/music gen/schub_d760_1.mid\n",
            "Loading Music File: /content/drive/MyDrive/music gen/schub_d760_2.mid\n",
            "Loading Music File: /content/drive/MyDrive/music gen/schub_d760_3.mid\n",
            "Loading Music File: /content/drive/MyDrive/music gen/schub_d760_4.mid\n",
            "Loading Music File: /content/drive/MyDrive/music gen/schumm-1.mid\n",
            "Loading Music File: /content/drive/MyDrive/music gen/schumm-2.mid\n",
            "Loading Music File: /content/drive/MyDrive/music gen/schumm-3.mid\n",
            "Loading Music File: /content/drive/MyDrive/music gen/schumm-4.mid\n",
            "Loading Music File: /content/drive/MyDrive/music gen/schumm-5.mid\n",
            "Loading Music File: /content/drive/MyDrive/music gen/schumm-6.mid\n",
            "Loading Music File: /content/drive/MyDrive/music gen/schu_143_1.mid\n",
            "Loading Music File: /content/drive/MyDrive/music gen/schu_143_2.mid\n",
            "Loading Music File: /content/drive/MyDrive/music gen/schu_143_3.mid\n",
            "Loading Music File: /content/drive/MyDrive/music gen/schuim-1.mid\n",
            "Loading Music File: /content/drive/MyDrive/music gen/schuim-2.mid\n",
            "Loading Music File: /content/drive/MyDrive/music gen/schuim-3.mid\n",
            "Loading Music File: /content/drive/MyDrive/music gen/schuim-4.mid\n",
            "Loading Music File: /content/drive/MyDrive/music gen/schubert_D935_1.mid\n",
            "Loading Music File: /content/drive/MyDrive/music gen/schubert_D935_2.mid\n",
            "Loading Music File: /content/drive/MyDrive/music gen/schubert_D935_3.mid\n",
            "Loading Music File: /content/drive/MyDrive/music gen/schubert_D935_4.mid\n",
            "Loading Music File: /content/drive/MyDrive/music gen/schub_d960_1.mid\n",
            "Loading Music File: /content/drive/MyDrive/music gen/schub_d960_2.mid\n",
            "Loading Music File: /content/drive/MyDrive/music gen/schub_d960_3.mid\n",
            "Loading Music File: /content/drive/MyDrive/music gen/schub_d960_4.mid\n"
          ],
          "name": "stdout"
        },
        {
          "output_type": "stream",
          "text": [
            "/usr/local/lib/python3.7/dist-packages/ipykernel_launcher.py:9: VisibleDeprecationWarning: Creating an ndarray from ragged nested sequences (which is a list-or-tuple of lists-or-tuples-or ndarrays with different lengths or shapes) is deprecated. If you meant to do this, you must specify 'dtype=object' when creating the ndarray\n",
            "  if __name__ == '__main__':\n"
          ],
          "name": "stderr"
        }
      ]
    },
    {
      "cell_type": "markdown",
      "metadata": {
        "id": "_UYd0b9Opzho"
      },
      "source": [
        "###Understanding the data:\n",
        "\n",
        "Under this section, we will explore the dataset and understand it in detail."
      ]
    },
    {
      "cell_type": "code",
      "metadata": {
        "colab": {
          "base_uri": "https://localhost:8080/"
        },
        "id": "Af6xf3PZnRCR",
        "outputId": "e7002210-1abf-4fae-ee39-1c3815fd2386"
      },
      "source": [
        "notes_ = [element for note_ in notes_array for element in note_]\n",
        "\n",
        "#No. of unique notes\n",
        "unique_notes = list(set(notes_))\n",
        "print(len(unique_notes))"
      ],
      "execution_count": null,
      "outputs": [
        {
          "output_type": "stream",
          "text": [
            "304\n"
          ],
          "name": "stdout"
        }
      ]
    },
    {
      "cell_type": "code",
      "metadata": {
        "colab": {
          "base_uri": "https://localhost:8080/",
          "height": 403
        },
        "id": "3DVCmg4wppMN",
        "outputId": "1476518f-c94d-4c9b-b152-260ef64c1a1b"
      },
      "source": [
        "#importing library\n",
        "from collections import Counter\n",
        "\n",
        "#computing frequency of each note\n",
        "freq = dict(Counter(notes_))\n",
        "\n",
        "# library for visulaization\n",
        "import matplotlib.pyplot as plt\n",
        "\n",
        "# consider only the frequencies\n",
        "no = [count for _, count in freq.items()]\n",
        "\n",
        "#set the figure size\n",
        "plt.figure(figsize=(5,5))\n",
        "\n",
        "#plot\n",
        "plt.hist(no)"
      ],
      "execution_count": null,
      "outputs": [
        {
          "output_type": "execute_result",
          "data": {
            "text/plain": [
              "(array([187.,  41.,  26.,  11.,   6.,   9.,  12.,   6.,   3.,   3.]),\n",
              " array([1.0000e+00, 1.4790e+02, 2.9480e+02, 4.4170e+02, 5.8860e+02,\n",
              "        7.3550e+02, 8.8240e+02, 1.0293e+03, 1.1762e+03, 1.3231e+03,\n",
              "        1.4700e+03]),\n",
              " <a list of 10 Patch objects>)"
            ]
          },
          "metadata": {
            "tags": []
          },
          "execution_count": 6
        },
        {
          "output_type": "display_data",
          "data": {
            "image/png": "[encoded data removed]",
            "text/plain": [
              "<Figure size 360x360 with 1 Axes>"
            ]
          },
          "metadata": {
            "tags": [],
            "image/png": {
              "width": 319,
              "height": 302
            },
            "needs_background": "light"
          }
        }
      ]
    },
    {
      "cell_type": "markdown",
      "metadata": {
        "id": "4eNnNa4erSBa"
      },
      "source": [
        "###From the above plot, we can infer that most of the notes have a very low frequency. So, let us keep the top frequent notes and ignore the low-frequency ones. Here, I am defining the threshold as 50. Nevertheless, the parameter can be changed."
      ]
    },
    {
      "cell_type": "code",
      "metadata": {
        "colab": {
          "base_uri": "https://localhost:8080/"
        },
        "id": "bLp-kURgqR2F",
        "outputId": "5f4e0fc3-63cb-4782-8237-51f4a97ca334"
      },
      "source": [
        "frequent_notes = [note_ for note_, count in freq.items() if count >= 50]\n",
        "print(len(frequent_notes))"
      ],
      "execution_count": null,
      "outputs": [
        {
          "output_type": "stream",
          "text": [
            "167\n"
          ],
          "name": "stdout"
        }
      ]
    },
    {
      "cell_type": "markdown",
      "metadata": {
        "id": "aSPUZgtqrpa5"
      },
      "source": [
        "####As you can see here, no. of frequently occurring notes is around 170.  Now, let us prepare new musical files which contain only the top frequent notes"
      ]
    },
    {
      "cell_type": "code",
      "metadata": {
        "colab": {
          "base_uri": "https://localhost:8080/"
        },
        "id": "UBpR7K30rQBb",
        "outputId": "692a88bd-8bf8-4c25-e92c-6f99f75abd75"
      },
      "source": [
        "new_music = []\n",
        "\n",
        "for notes in notes_array :\n",
        "  temp = []\n",
        "  for note_ in notes :\n",
        "    if note_ in frequent_notes :\n",
        "      temp.append(note_)\n",
        "\n",
        "  new_music.append(temp)\n",
        "\n",
        "new_music = np.array(new_music)"
      ],
      "execution_count": null,
      "outputs": [
        {
          "output_type": "stream",
          "text": [
            "/usr/local/lib/python3.7/dist-packages/ipykernel_launcher.py:11: VisibleDeprecationWarning: Creating an ndarray from ragged nested sequences (which is a list-or-tuple of lists-or-tuples-or ndarrays with different lengths or shapes) is deprecated. If you meant to do this, you must specify 'dtype=object' when creating the ndarray\n",
            "  # This is added back by InteractiveShellApp.init_path()\n"
          ],
          "name": "stderr"
        }
      ]
    },
    {
      "cell_type": "markdown",
      "metadata": {
        "id": "FurJM-hbsU2o"
      },
      "source": [
        "### Preparing the data"
      ]
    },
    {
      "cell_type": "code",
      "metadata": {
        "id": "Er66P7UVsMEg"
      },
      "source": [
        "no_of_timesteps =32\n",
        "x = []\n",
        "y = []\n",
        "\n",
        "for note_ in new_music :\n",
        "  for i in range(0, len(note_) - no_of_timesteps, 1):\n",
        "\n",
        "    # preparing input and output sequences\n",
        "    input_ = note_[i : i + no_of_timesteps]\n",
        "    output_ = note_[i + no_of_timesteps]\n",
        "\n",
        "    x.append(input_)\n",
        "    y.append(output_)\n",
        "\n",
        "x = np.array(x)\n",
        "y = np.array(y)"
      ],
      "execution_count": null,
      "outputs": []
    },
    {
      "cell_type": "code",
      "metadata": {
        "colab": {
          "base_uri": "https://localhost:8080/"
        },
        "id": "h5C5ObxdtZrn",
        "outputId": "f6b37668-381f-4eea-ee52-5dca7dde35fe"
      },
      "source": [
        "x.shape"
      ],
      "execution_count": null,
      "outputs": [
        {
          "output_type": "execute_result",
          "data": {
            "text/plain": [
              "(64413, 32)"
            ]
          },
          "metadata": {
            "tags": []
          },
          "execution_count": 10
        }
      ]
    },
    {
      "cell_type": "markdown",
      "metadata": {
        "id": "AhEIGAPFuxsa"
      },
      "source": [
        "###Now, we will assign a unique integer to every note:"
      ]
    },
    {
      "cell_type": "code",
      "metadata": {
        "id": "BDI8GN4jtk2c"
      },
      "source": [
        "unique_x = list(set(x.ravel()))\n",
        "x_note_to_int = dict((note_, number) for number, note_ in enumerate(unique_x))"
      ],
      "execution_count": null,
      "outputs": []
    },
    {
      "cell_type": "markdown",
      "metadata": {
        "id": "g-eq4TAwvQv4"
      },
      "source": [
        "### We will prepare the integer sequences for input data"
      ]
    },
    {
      "cell_type": "code",
      "metadata": {
        "id": "uZGlTVJmtoUZ"
      },
      "source": [
        "#preparing input sequences\n",
        "x_seq = []\n",
        "for i in x :\n",
        "  temp = []\n",
        "  for j in i :\n",
        "    #assigning unique integer to every note\n",
        "    temp.append(x_note_to_int[j])\n",
        "\n",
        "  x_seq.append(temp)\n",
        "\n",
        "x_seq = np.array(x_seq)"
      ],
      "execution_count": null,
      "outputs": []
    },
    {
      "cell_type": "code",
      "metadata": {
        "colab": {
          "base_uri": "https://localhost:8080/"
        },
        "id": "1opggwvCvLe_",
        "outputId": "d7c1162f-51ee-4731-cd8e-98cec13285b5"
      },
      "source": [
        "x_seq[0]"
      ],
      "execution_count": null,
      "outputs": [
        {
          "output_type": "execute_result",
          "data": {
            "text/plain": [
              "array([ 24, 136,  71, 133,  71, 133,  71, 133,  71, 133, 160, 166, 114,\n",
              "        27,  44, 130, 154,  24, 154,  24, 154,  24, 154,  24,  92, 166,\n",
              "        27, 149, 156, 156,  51, 137])"
            ]
          },
          "metadata": {
            "tags": []
          },
          "execution_count": 13
        }
      ]
    },
    {
      "cell_type": "markdown",
      "metadata": {
        "id": "yne0nrpmvzvI"
      },
      "source": [
        "### Similarly, prepare the integer sequences for output data as well"
      ]
    },
    {
      "cell_type": "code",
      "metadata": {
        "id": "bRdhIXrzvrM5"
      },
      "source": [
        "unique_y = list(set(y))\n",
        "y_note_to_int = dict((note_, number) for number, note_ in enumerate(unique_y)) \n",
        "y_seq=np.array([y_note_to_int[i] for i in y])"
      ],
      "execution_count": null,
      "outputs": []
    },
    {
      "cell_type": "markdown",
      "metadata": {
        "id": "nIGwJyw3v8hX"
      },
      "source": [
        "### Let us preserve 80% of the data for training and the rest 20% for the evaluation:"
      ]
    },
    {
      "cell_type": "code",
      "metadata": {
        "id": "pKy4zGrAv5Md"
      },
      "source": [
        "from sklearn.model_selection import train_test_split\n",
        "x_tr, x_val, y_tr, y_val = train_test_split(x_seq,y_seq,test_size=0.2,random_state=0)"
      ],
      "execution_count": null,
      "outputs": []
    },
    {
      "cell_type": "markdown",
      "metadata": {
        "id": "TX-6s59iwLWx"
      },
      "source": [
        "### **MODEL BUILDING**"
      ]
    },
    {
      "cell_type": "code",
      "metadata": {
        "id": "wm2W19x2wCwW"
      },
      "source": [
        "def lstm():\n",
        "  model = Sequential()\n",
        "  model.add(Embedding(len(unique_x), 100, input_length=32,trainable=True))\n",
        "  model.add(LSTM(128,return_sequences=True))\n",
        "  model.add(LSTM(128))\n",
        "  model.add(Dense(256))\n",
        "  model.add(Activation('relu'))\n",
        "  model.add(Dense(len(unique_y)))\n",
        "  model.add(Activation('softmax'))\n",
        "  model.compile(loss='sparse_categorical_crossentropy', optimizer='adam')\n",
        "  return model"
      ],
      "execution_count": null,
      "outputs": []
    },
    {
      "cell_type": "code",
      "metadata": {
        "id": "enyL-tdh9qBd"
      },
      "source": [
        "model = lstm()"
      ],
      "execution_count": null,
      "outputs": []
    },
    {
      "cell_type": "code",
      "metadata": {
        "id": "14sa9zDT-tqk"
      },
      "source": [
        "from tensorflow.keras.callbacks import ModelCheckpoint\n",
        "\n",
        "mc=ModelCheckpoint('/content/drive/MyDrive/music gen/best_model_lstm.h5', monitor='val_loss', mode='min', save_best_only=True,verbose=1)"
      ],
      "execution_count": null,
      "outputs": []
    },
    {
      "cell_type": "code",
      "metadata": {
        "colab": {
          "base_uri": "https://localhost:8080/"
        },
        "id": "aDCbnysN-ZGi",
        "outputId": "e0dc084d-b60b-4f98-91ca-56ab87007472"
      },
      "source": [
        "history = model.fit(np.array(x_tr), np.array(y_tr), batch_size=128, epochs=50, validation_data=(np.array(x_val),np.array(y_val)), verbose=1, callbacks=[mc])"
      ],
      "execution_count": null,
      "outputs": [
        {
          "output_type": "stream",
          "text": [
            "Epoch 1/50\n",
            "403/403 [==============================] - 7s 12ms/step - loss: 4.5394 - val_loss: 3.8306\n",
            "\n",
            "Epoch 00001: val_loss improved from inf to 3.83060, saving model to /content/drive/MyDrive/music gen/best_model_lstm.h5\n",
            "Epoch 2/50\n",
            "403/403 [==============================] - 4s 10ms/step - loss: 3.7405 - val_loss: 3.6105\n",
            "\n",
            "Epoch 00002: val_loss improved from 3.83060 to 3.61052, saving model to /content/drive/MyDrive/music gen/best_model_lstm.h5\n",
            "Epoch 3/50\n",
            "403/403 [==============================] - 4s 10ms/step - loss: 3.5058 - val_loss: 3.4413\n",
            "\n",
            "Epoch 00003: val_loss improved from 3.61052 to 3.44134, saving model to /content/drive/MyDrive/music gen/best_model_lstm.h5\n",
            "Epoch 4/50\n",
            "403/403 [==============================] - 4s 10ms/step - loss: 3.3385 - val_loss: 3.3252\n",
            "\n",
            "Epoch 00004: val_loss improved from 3.44134 to 3.32525, saving model to /content/drive/MyDrive/music gen/best_model_lstm.h5\n",
            "Epoch 5/50\n",
            "403/403 [==============================] - 4s 10ms/step - loss: 3.1620 - val_loss: 3.2078\n",
            "\n",
            "Epoch 00005: val_loss improved from 3.32525 to 3.20783, saving model to /content/drive/MyDrive/music gen/best_model_lstm.h5\n",
            "Epoch 6/50\n",
            "403/403 [==============================] - 4s 10ms/step - loss: 2.9847 - val_loss: 3.1042\n",
            "\n",
            "Epoch 00006: val_loss improved from 3.20783 to 3.10418, saving model to /content/drive/MyDrive/music gen/best_model_lstm.h5\n",
            "Epoch 7/50\n",
            "403/403 [==============================] - 4s 10ms/step - loss: 2.8253 - val_loss: 3.0078\n",
            "\n",
            "Epoch 00007: val_loss improved from 3.10418 to 3.00777, saving model to /content/drive/MyDrive/music gen/best_model_lstm.h5\n",
            "Epoch 8/50\n",
            "403/403 [==============================] - 4s 10ms/step - loss: 2.6568 - val_loss: 2.9295\n",
            "\n",
            "Epoch 00008: val_loss improved from 3.00777 to 2.92947, saving model to /content/drive/MyDrive/music gen/best_model_lstm.h5\n",
            "Epoch 9/50\n",
            "403/403 [==============================] - 4s 10ms/step - loss: 2.4841 - val_loss: 2.8270\n",
            "\n",
            "Epoch 00009: val_loss improved from 2.92947 to 2.82696, saving model to /content/drive/MyDrive/music gen/best_model_lstm.h5\n",
            "Epoch 10/50\n",
            "403/403 [==============================] - 4s 10ms/step - loss: 2.3242 - val_loss: 2.7639\n",
            "\n",
            "Epoch 00010: val_loss improved from 2.82696 to 2.76389, saving model to /content/drive/MyDrive/music gen/best_model_lstm.h5\n",
            "Epoch 11/50\n",
            "403/403 [==============================] - 4s 10ms/step - loss: 2.1493 - val_loss: 2.6760\n",
            "\n",
            "Epoch 00011: val_loss improved from 2.76389 to 2.67604, saving model to /content/drive/MyDrive/music gen/best_model_lstm.h5\n",
            "Epoch 12/50\n",
            "403/403 [==============================] - 4s 10ms/step - loss: 1.9861 - val_loss: 2.6158\n",
            "\n",
            "Epoch 00012: val_loss improved from 2.67604 to 2.61581, saving model to /content/drive/MyDrive/music gen/best_model_lstm.h5\n",
            "Epoch 13/50\n",
            "403/403 [==============================] - 4s 10ms/step - loss: 1.8343 - val_loss: 2.5821\n",
            "\n",
            "Epoch 00013: val_loss improved from 2.61581 to 2.58205, saving model to /content/drive/MyDrive/music gen/best_model_lstm.h5\n",
            "Epoch 14/50\n",
            "403/403 [==============================] - 4s 10ms/step - loss: 1.6861 - val_loss: 2.5464\n",
            "\n",
            "Epoch 00014: val_loss improved from 2.58205 to 2.54636, saving model to /content/drive/MyDrive/music gen/best_model_lstm.h5\n",
            "Epoch 15/50\n",
            "403/403 [==============================] - 4s 10ms/step - loss: 1.5558 - val_loss: 2.5311\n",
            "\n",
            "Epoch 00015: val_loss improved from 2.54636 to 2.53108, saving model to /content/drive/MyDrive/music gen/best_model_lstm.h5\n",
            "Epoch 16/50\n",
            "403/403 [==============================] - 4s 10ms/step - loss: 1.4154 - val_loss: 2.4945\n",
            "\n",
            "Epoch 00016: val_loss improved from 2.53108 to 2.49453, saving model to /content/drive/MyDrive/music gen/best_model_lstm.h5\n",
            "Epoch 17/50\n",
            "403/403 [==============================] - 4s 10ms/step - loss: 1.2808 - val_loss: 2.4925\n",
            "\n",
            "Epoch 00017: val_loss improved from 2.49453 to 2.49253, saving model to /content/drive/MyDrive/music gen/best_model_lstm.h5\n",
            "Epoch 18/50\n",
            "403/403 [==============================] - 4s 10ms/step - loss: 1.1920 - val_loss: 2.4873\n",
            "\n",
            "Epoch 00018: val_loss improved from 2.49253 to 2.48728, saving model to /content/drive/MyDrive/music gen/best_model_lstm.h5\n",
            "Epoch 19/50\n",
            "403/403 [==============================] - 4s 10ms/step - loss: 1.0754 - val_loss: 2.5045\n",
            "\n",
            "Epoch 00019: val_loss did not improve from 2.48728\n",
            "Epoch 20/50\n",
            "403/403 [==============================] - 4s 10ms/step - loss: 0.9742 - val_loss: 2.5010\n",
            "\n",
            "Epoch 00020: val_loss did not improve from 2.48728\n",
            "Epoch 21/50\n",
            "403/403 [==============================] - 4s 10ms/step - loss: 0.8800 - val_loss: 2.5410\n",
            "\n",
            "Epoch 00021: val_loss did not improve from 2.48728\n",
            "Epoch 22/50\n",
            "403/403 [==============================] - 4s 10ms/step - loss: 0.8079 - val_loss: 2.5469\n",
            "\n",
            "Epoch 00022: val_loss did not improve from 2.48728\n",
            "Epoch 23/50\n",
            "403/403 [==============================] - 4s 10ms/step - loss: 0.7224 - val_loss: 2.5803\n",
            "\n",
            "Epoch 00023: val_loss did not improve from 2.48728\n",
            "Epoch 24/50\n",
            "403/403 [==============================] - 4s 10ms/step - loss: 0.6440 - val_loss: 2.5901\n",
            "\n",
            "Epoch 00024: val_loss did not improve from 2.48728\n",
            "Epoch 25/50\n",
            "403/403 [==============================] - 4s 10ms/step - loss: 0.5814 - val_loss: 2.6622\n",
            "\n",
            "Epoch 00025: val_loss did not improve from 2.48728\n",
            "Epoch 26/50\n",
            "403/403 [==============================] - 4s 10ms/step - loss: 0.5324 - val_loss: 2.7034\n",
            "\n",
            "Epoch 00026: val_loss did not improve from 2.48728\n",
            "Epoch 27/50\n",
            "403/403 [==============================] - 4s 10ms/step - loss: 0.4737 - val_loss: 2.7520\n",
            "\n",
            "Epoch 00027: val_loss did not improve from 2.48728\n",
            "Epoch 28/50\n",
            "403/403 [==============================] - 4s 10ms/step - loss: 0.4328 - val_loss: 2.8063\n",
            "\n",
            "Epoch 00028: val_loss did not improve from 2.48728\n",
            "Epoch 29/50\n",
            "403/403 [==============================] - 4s 10ms/step - loss: 0.3865 - val_loss: 2.8375\n",
            "\n",
            "Epoch 00029: val_loss did not improve from 2.48728\n",
            "Epoch 30/50\n",
            "403/403 [==============================] - 4s 10ms/step - loss: 0.3458 - val_loss: 2.9117\n",
            "\n",
            "Epoch 00030: val_loss did not improve from 2.48728\n",
            "Epoch 31/50\n",
            "403/403 [==============================] - 4s 10ms/step - loss: 0.3102 - val_loss: 2.9900\n",
            "\n",
            "Epoch 00031: val_loss did not improve from 2.48728\n",
            "Epoch 32/50\n",
            "403/403 [==============================] - 4s 10ms/step - loss: 0.2982 - val_loss: 3.0732\n",
            "\n",
            "Epoch 00032: val_loss did not improve from 2.48728\n",
            "Epoch 33/50\n",
            "403/403 [==============================] - 4s 10ms/step - loss: 0.2864 - val_loss: 3.0836\n",
            "\n",
            "Epoch 00033: val_loss did not improve from 2.48728\n",
            "Epoch 34/50\n",
            "403/403 [==============================] - 4s 10ms/step - loss: 0.2478 - val_loss: 3.1461\n",
            "\n",
            "Epoch 00034: val_loss did not improve from 2.48728\n",
            "Epoch 35/50\n",
            "403/403 [==============================] - 4s 10ms/step - loss: 0.2164 - val_loss: 3.2230\n",
            "\n",
            "Epoch 00035: val_loss did not improve from 2.48728\n",
            "Epoch 36/50\n",
            "403/403 [==============================] - 4s 10ms/step - loss: 0.2097 - val_loss: 3.2696\n",
            "\n",
            "Epoch 00036: val_loss did not improve from 2.48728\n",
            "Epoch 37/50\n",
            "403/403 [==============================] - 4s 10ms/step - loss: 0.2144 - val_loss: 3.3498\n",
            "\n",
            "Epoch 00037: val_loss did not improve from 2.48728\n",
            "Epoch 38/50\n",
            "403/403 [==============================] - 4s 10ms/step - loss: 0.1935 - val_loss: 3.3663\n",
            "\n",
            "Epoch 00038: val_loss did not improve from 2.48728\n",
            "Epoch 39/50\n",
            "403/403 [==============================] - 4s 10ms/step - loss: 0.1846 - val_loss: 3.4199\n",
            "\n",
            "Epoch 00039: val_loss did not improve from 2.48728\n",
            "Epoch 40/50\n",
            "403/403 [==============================] - 4s 10ms/step - loss: 0.1657 - val_loss: 3.5157\n",
            "\n",
            "Epoch 00040: val_loss did not improve from 2.48728\n",
            "Epoch 41/50\n",
            "403/403 [==============================] - 4s 10ms/step - loss: 0.1897 - val_loss: 3.5364\n",
            "\n",
            "Epoch 00041: val_loss did not improve from 2.48728\n",
            "Epoch 42/50\n",
            "403/403 [==============================] - 4s 10ms/step - loss: 0.1732 - val_loss: 3.5745\n",
            "\n",
            "Epoch 00042: val_loss did not improve from 2.48728\n",
            "Epoch 43/50\n",
            "403/403 [==============================] - 4s 10ms/step - loss: 0.1746 - val_loss: 3.6624\n",
            "\n",
            "Epoch 00043: val_loss did not improve from 2.48728\n",
            "Epoch 44/50\n",
            "403/403 [==============================] - 4s 10ms/step - loss: 0.1448 - val_loss: 3.6685\n",
            "\n",
            "Epoch 00044: val_loss did not improve from 2.48728\n",
            "Epoch 45/50\n",
            "403/403 [==============================] - 4s 10ms/step - loss: 0.1347 - val_loss: 3.7117\n",
            "\n",
            "Epoch 00045: val_loss did not improve from 2.48728\n",
            "Epoch 46/50\n",
            "403/403 [==============================] - 4s 10ms/step - loss: 0.1388 - val_loss: 3.7695\n",
            "\n",
            "Epoch 00046: val_loss did not improve from 2.48728\n",
            "Epoch 47/50\n",
            "403/403 [==============================] - 4s 10ms/step - loss: 0.1646 - val_loss: 3.8426\n",
            "\n",
            "Epoch 00047: val_loss did not improve from 2.48728\n",
            "Epoch 48/50\n",
            "403/403 [==============================] - 4s 10ms/step - loss: 0.1766 - val_loss: 3.8427\n",
            "\n",
            "Epoch 00048: val_loss did not improve from 2.48728\n",
            "Epoch 49/50\n",
            "403/403 [==============================] - 4s 10ms/step - loss: 0.1369 - val_loss: 3.8762\n",
            "\n",
            "Epoch 00049: val_loss did not improve from 2.48728\n",
            "Epoch 50/50\n",
            "403/403 [==============================] - 4s 10ms/step - loss: 0.1222 - val_loss: 3.8988\n",
            "\n",
            "Epoch 00050: val_loss did not improve from 2.48728\n"
          ],
          "name": "stdout"
        }
      ]
    },
    {
      "cell_type": "code",
      "metadata": {
        "colab": {
          "base_uri": "https://localhost:8080/"
        },
        "id": "KXNo70wj-9AH",
        "outputId": "0d977095-76cb-4100-d5e3-14b946ee3e44"
      },
      "source": [
        "from keras.layers import *\n",
        "from keras.models import *\n",
        "from keras.callbacks import *\n",
        "import keras.backend as K\n",
        "\n",
        "K.clear_session()\n",
        "model = Sequential()\n",
        "    \n",
        "#embedding layer\n",
        "model.add(Embedding(len(unique_x), 100, input_length=32,trainable=True)) \n",
        "\n",
        "model.add(Conv1D(64,3, padding='causal',activation='relu'))\n",
        "model.add(Dropout(0.2))\n",
        "model.add(MaxPool1D(2))\n",
        "    \n",
        "model.add(Conv1D(128,3,activation='relu',dilation_rate=2,padding='causal'))\n",
        "model.add(Dropout(0.2))\n",
        "model.add(MaxPool1D(2))\n",
        "\n",
        "model.add(Conv1D(256,3,activation='relu',dilation_rate=4,padding='causal'))\n",
        "model.add(Dropout(0.2))\n",
        "model.add(MaxPool1D(2))\n",
        "          \n",
        "#model.add(Conv1D(256,5,activation='relu'))    \n",
        "model.add(GlobalMaxPool1D())\n",
        "    \n",
        "model.add(Dense(256, activation='relu'))\n",
        "model.add(Dense(len(unique_y), activation='softmax'))\n",
        "    \n",
        "model.compile(loss='sparse_categorical_crossentropy', optimizer='adam')\n",
        "\n",
        "model.summary()"
      ],
      "execution_count": null,
      "outputs": [
        {
          "output_type": "stream",
          "text": [
            "Model: \"sequential\"\n",
            "_________________________________________________________________\n",
            "Layer (type)                 Output Shape              Param #   \n",
            "=================================================================\n",
            "embedding (Embedding)        (None, 32, 100)           16700     \n",
            "_________________________________________________________________\n",
            "conv1d (Conv1D)              (None, 32, 64)            19264     \n",
            "_________________________________________________________________\n",
            "dropout (Dropout)            (None, 32, 64)            0         \n",
            "_________________________________________________________________\n",
            "max_pooling1d (MaxPooling1D) (None, 16, 64)            0         \n",
            "_________________________________________________________________\n",
            "conv1d_1 (Conv1D)            (None, 16, 128)           24704     \n",
            "_________________________________________________________________\n",
            "dropout_1 (Dropout)          (None, 16, 128)           0         \n",
            "_________________________________________________________________\n",
            "max_pooling1d_1 (MaxPooling1 (None, 8, 128)            0         \n",
            "_________________________________________________________________\n",
            "conv1d_2 (Conv1D)            (None, 8, 256)            98560     \n",
            "_________________________________________________________________\n",
            "dropout_2 (Dropout)          (None, 8, 256)            0         \n",
            "_________________________________________________________________\n",
            "max_pooling1d_2 (MaxPooling1 (None, 4, 256)            0         \n",
            "_________________________________________________________________\n",
            "global_max_pooling1d (Global (None, 256)               0         \n",
            "_________________________________________________________________\n",
            "dense (Dense)                (None, 256)               65792     \n",
            "_________________________________________________________________\n",
            "dense_1 (Dense)              (None, 167)               42919     \n",
            "=================================================================\n",
            "Total params: 267,939\n",
            "Trainable params: 267,939\n",
            "Non-trainable params: 0\n",
            "_________________________________________________________________\n"
          ],
          "name": "stdout"
        }
      ]
    },
    {
      "cell_type": "code",
      "metadata": {
        "id": "kfg0_UK-AFAY"
      },
      "source": [
        "from tensorflow.keras.callbacks import ModelCheckpoint\n",
        "\n",
        "mc=ModelCheckpoint('/content/drive/MyDrive/music gen/best_model_wavenet.h5', monitor='val_loss', mode='min', save_best_only=True,verbose=1)"
      ],
      "execution_count": null,
      "outputs": []
    },
    {
      "cell_type": "code",
      "metadata": {
        "colab": {
          "base_uri": "https://localhost:8080/"
        },
        "id": "aSMRPIb9AQVT",
        "outputId": "4225d99e-a1bc-4e5c-f4a1-731d1399ab1c"
      },
      "source": [
        "history = model.fit(np.array(x_tr), np.array(y_tr), batch_size=128, epochs=50, validation_data=(np.array(x_val),np.array(y_val)), verbose=1, callbacks=[mc])"
      ],
      "execution_count": null,
      "outputs": [
        {
          "output_type": "stream",
          "text": [
            "Epoch 1/50\n",
            "403/403 [==============================] - 4s 9ms/step - loss: 4.6114 - val_loss: 4.0171\n",
            "\n",
            "Epoch 00001: val_loss improved from inf to 4.01709, saving model to /content/drive/MyDrive/music gen/best_model_wavenet.h5\n",
            "Epoch 2/50\n",
            "403/403 [==============================] - 3s 8ms/step - loss: 3.8346 - val_loss: 3.8119\n",
            "\n",
            "Epoch 00002: val_loss improved from 4.01709 to 3.81190, saving model to /content/drive/MyDrive/music gen/best_model_wavenet.h5\n",
            "Epoch 3/50\n",
            "403/403 [==============================] - 3s 8ms/step - loss: 3.6266 - val_loss: 3.6760\n",
            "\n",
            "Epoch 00003: val_loss improved from 3.81190 to 3.67605, saving model to /content/drive/MyDrive/music gen/best_model_wavenet.h5\n",
            "Epoch 4/50\n",
            "403/403 [==============================] - 3s 8ms/step - loss: 3.4809 - val_loss: 3.5638\n",
            "\n",
            "Epoch 00004: val_loss improved from 3.67605 to 3.56380, saving model to /content/drive/MyDrive/music gen/best_model_wavenet.h5\n",
            "Epoch 5/50\n",
            "403/403 [==============================] - 3s 8ms/step - loss: 3.3739 - val_loss: 3.5052\n",
            "\n",
            "Epoch 00005: val_loss improved from 3.56380 to 3.50523, saving model to /content/drive/MyDrive/music gen/best_model_wavenet.h5\n",
            "Epoch 6/50\n",
            "403/403 [==============================] - 3s 8ms/step - loss: 3.3096 - val_loss: 3.4400\n",
            "\n",
            "Epoch 00006: val_loss improved from 3.50523 to 3.43997, saving model to /content/drive/MyDrive/music gen/best_model_wavenet.h5\n",
            "Epoch 7/50\n",
            "403/403 [==============================] - 3s 8ms/step - loss: 3.2131 - val_loss: 3.3485\n",
            "\n",
            "Epoch 00007: val_loss improved from 3.43997 to 3.34846, saving model to /content/drive/MyDrive/music gen/best_model_wavenet.h5\n",
            "Epoch 8/50\n",
            "403/403 [==============================] - 3s 8ms/step - loss: 3.1473 - val_loss: 3.3272\n",
            "\n",
            "Epoch 00008: val_loss improved from 3.34846 to 3.32716, saving model to /content/drive/MyDrive/music gen/best_model_wavenet.h5\n",
            "Epoch 9/50\n",
            "403/403 [==============================] - 3s 8ms/step - loss: 3.0839 - val_loss: 3.2750\n",
            "\n",
            "Epoch 00009: val_loss improved from 3.32716 to 3.27498, saving model to /content/drive/MyDrive/music gen/best_model_wavenet.h5\n",
            "Epoch 10/50\n",
            "403/403 [==============================] - 3s 8ms/step - loss: 3.0417 - val_loss: 3.2373\n",
            "\n",
            "Epoch 00010: val_loss improved from 3.27498 to 3.23729, saving model to /content/drive/MyDrive/music gen/best_model_wavenet.h5\n",
            "Epoch 11/50\n",
            "403/403 [==============================] - 3s 8ms/step - loss: 2.9897 - val_loss: 3.1957\n",
            "\n",
            "Epoch 00011: val_loss improved from 3.23729 to 3.19572, saving model to /content/drive/MyDrive/music gen/best_model_wavenet.h5\n",
            "Epoch 12/50\n",
            "403/403 [==============================] - 3s 8ms/step - loss: 2.9446 - val_loss: 3.1636\n",
            "\n",
            "Epoch 00012: val_loss improved from 3.19572 to 3.16362, saving model to /content/drive/MyDrive/music gen/best_model_wavenet.h5\n",
            "Epoch 13/50\n",
            "403/403 [==============================] - 3s 8ms/step - loss: 2.8930 - val_loss: 3.1659\n",
            "\n",
            "Epoch 00013: val_loss did not improve from 3.16362\n",
            "Epoch 14/50\n",
            "403/403 [==============================] - 3s 8ms/step - loss: 2.8577 - val_loss: 3.1151\n",
            "\n",
            "Epoch 00014: val_loss improved from 3.16362 to 3.11511, saving model to /content/drive/MyDrive/music gen/best_model_wavenet.h5\n",
            "Epoch 15/50\n",
            "403/403 [==============================] - 3s 8ms/step - loss: 2.8134 - val_loss: 3.1084\n",
            "\n",
            "Epoch 00015: val_loss improved from 3.11511 to 3.10843, saving model to /content/drive/MyDrive/music gen/best_model_wavenet.h5\n",
            "Epoch 16/50\n",
            "403/403 [==============================] - 3s 8ms/step - loss: 2.7890 - val_loss: 3.0898\n",
            "\n",
            "Epoch 00016: val_loss improved from 3.10843 to 3.08978, saving model to /content/drive/MyDrive/music gen/best_model_wavenet.h5\n",
            "Epoch 17/50\n",
            "403/403 [==============================] - 3s 8ms/step - loss: 2.7604 - val_loss: 3.0467\n",
            "\n",
            "Epoch 00017: val_loss improved from 3.08978 to 3.04672, saving model to /content/drive/MyDrive/music gen/best_model_wavenet.h5\n",
            "Epoch 18/50\n",
            "403/403 [==============================] - 3s 8ms/step - loss: 2.7322 - val_loss: 3.0062\n",
            "\n",
            "Epoch 00018: val_loss improved from 3.04672 to 3.00619, saving model to /content/drive/MyDrive/music gen/best_model_wavenet.h5\n",
            "Epoch 19/50\n",
            "403/403 [==============================] - 3s 8ms/step - loss: 2.6962 - val_loss: 3.0056\n",
            "\n",
            "Epoch 00019: val_loss improved from 3.00619 to 3.00555, saving model to /content/drive/MyDrive/music gen/best_model_wavenet.h5\n",
            "Epoch 20/50\n",
            "403/403 [==============================] - 3s 8ms/step - loss: 2.6795 - val_loss: 2.9846\n",
            "\n",
            "Epoch 00020: val_loss improved from 3.00555 to 2.98458, saving model to /content/drive/MyDrive/music gen/best_model_wavenet.h5\n",
            "Epoch 21/50\n",
            "403/403 [==============================] - 3s 8ms/step - loss: 2.6390 - val_loss: 2.9736\n",
            "\n",
            "Epoch 00021: val_loss improved from 2.98458 to 2.97362, saving model to /content/drive/MyDrive/music gen/best_model_wavenet.h5\n",
            "Epoch 22/50\n",
            "403/403 [==============================] - 3s 8ms/step - loss: 2.6262 - val_loss: 2.9652\n",
            "\n",
            "Epoch 00022: val_loss improved from 2.97362 to 2.96516, saving model to /content/drive/MyDrive/music gen/best_model_wavenet.h5\n",
            "Epoch 23/50\n",
            "403/403 [==============================] - 3s 8ms/step - loss: 2.6027 - val_loss: 2.9408\n",
            "\n",
            "Epoch 00023: val_loss improved from 2.96516 to 2.94079, saving model to /content/drive/MyDrive/music gen/best_model_wavenet.h5\n",
            "Epoch 24/50\n",
            "403/403 [==============================] - 3s 8ms/step - loss: 2.5878 - val_loss: 2.9378\n",
            "\n",
            "Epoch 00024: val_loss improved from 2.94079 to 2.93785, saving model to /content/drive/MyDrive/music gen/best_model_wavenet.h5\n",
            "Epoch 25/50\n",
            "403/403 [==============================] - 3s 8ms/step - loss: 2.5679 - val_loss: 2.9158\n",
            "\n",
            "Epoch 00025: val_loss improved from 2.93785 to 2.91584, saving model to /content/drive/MyDrive/music gen/best_model_wavenet.h5\n",
            "Epoch 26/50\n",
            "403/403 [==============================] - 3s 8ms/step - loss: 2.5456 - val_loss: 2.9029\n",
            "\n",
            "Epoch 00026: val_loss improved from 2.91584 to 2.90292, saving model to /content/drive/MyDrive/music gen/best_model_wavenet.h5\n",
            "Epoch 27/50\n",
            "403/403 [==============================] - 3s 8ms/step - loss: 2.5306 - val_loss: 2.8961\n",
            "\n",
            "Epoch 00027: val_loss improved from 2.90292 to 2.89614, saving model to /content/drive/MyDrive/music gen/best_model_wavenet.h5\n",
            "Epoch 28/50\n",
            "403/403 [==============================] - 3s 8ms/step - loss: 2.5157 - val_loss: 2.8698\n",
            "\n",
            "Epoch 00028: val_loss improved from 2.89614 to 2.86984, saving model to /content/drive/MyDrive/music gen/best_model_wavenet.h5\n",
            "Epoch 29/50\n",
            "403/403 [==============================] - 3s 8ms/step - loss: 2.4922 - val_loss: 2.8815\n",
            "\n",
            "Epoch 00029: val_loss did not improve from 2.86984\n",
            "Epoch 30/50\n",
            "403/403 [==============================] - 3s 8ms/step - loss: 2.4792 - val_loss: 2.8553\n",
            "\n",
            "Epoch 00030: val_loss improved from 2.86984 to 2.85527, saving model to /content/drive/MyDrive/music gen/best_model_wavenet.h5\n",
            "Epoch 31/50\n",
            "403/403 [==============================] - 3s 8ms/step - loss: 2.4581 - val_loss: 2.8501\n",
            "\n",
            "Epoch 00031: val_loss improved from 2.85527 to 2.85007, saving model to /content/drive/MyDrive/music gen/best_model_wavenet.h5\n",
            "Epoch 32/50\n",
            "403/403 [==============================] - 3s 8ms/step - loss: 2.4539 - val_loss: 2.8465\n",
            "\n",
            "Epoch 00032: val_loss improved from 2.85007 to 2.84654, saving model to /content/drive/MyDrive/music gen/best_model_wavenet.h5\n",
            "Epoch 33/50\n",
            "403/403 [==============================] - 3s 8ms/step - loss: 2.4380 - val_loss: 2.8484\n",
            "\n",
            "Epoch 00033: val_loss did not improve from 2.84654\n",
            "Epoch 34/50\n",
            "403/403 [==============================] - 3s 8ms/step - loss: 2.4271 - val_loss: 2.8306\n",
            "\n",
            "Epoch 00034: val_loss improved from 2.84654 to 2.83057, saving model to /content/drive/MyDrive/music gen/best_model_wavenet.h5\n",
            "Epoch 35/50\n",
            "403/403 [==============================] - 3s 8ms/step - loss: 2.4111 - val_loss: 2.8233\n",
            "\n",
            "Epoch 00035: val_loss improved from 2.83057 to 2.82330, saving model to /content/drive/MyDrive/music gen/best_model_wavenet.h5\n",
            "Epoch 36/50\n",
            "403/403 [==============================] - 3s 8ms/step - loss: 2.4007 - val_loss: 2.8193\n",
            "\n",
            "Epoch 00036: val_loss improved from 2.82330 to 2.81928, saving model to /content/drive/MyDrive/music gen/best_model_wavenet.h5\n",
            "Epoch 37/50\n",
            "403/403 [==============================] - 3s 8ms/step - loss: 2.4002 - val_loss: 2.8157\n",
            "\n",
            "Epoch 00037: val_loss improved from 2.81928 to 2.81569, saving model to /content/drive/MyDrive/music gen/best_model_wavenet.h5\n",
            "Epoch 38/50\n",
            "403/403 [==============================] - 3s 8ms/step - loss: 2.3970 - val_loss: 2.8127\n",
            "\n",
            "Epoch 00038: val_loss improved from 2.81569 to 2.81274, saving model to /content/drive/MyDrive/music gen/best_model_wavenet.h5\n",
            "Epoch 39/50\n",
            "403/403 [==============================] - 3s 8ms/step - loss: 2.3705 - val_loss: 2.7890\n",
            "\n",
            "Epoch 00039: val_loss improved from 2.81274 to 2.78898, saving model to /content/drive/MyDrive/music gen/best_model_wavenet.h5\n",
            "Epoch 40/50\n",
            "403/403 [==============================] - 3s 8ms/step - loss: 2.3672 - val_loss: 2.7931\n",
            "\n",
            "Epoch 00040: val_loss did not improve from 2.78898\n",
            "Epoch 41/50\n",
            "403/403 [==============================] - 3s 8ms/step - loss: 2.3601 - val_loss: 2.7860\n",
            "\n",
            "Epoch 00041: val_loss improved from 2.78898 to 2.78598, saving model to /content/drive/MyDrive/music gen/best_model_wavenet.h5\n",
            "Epoch 42/50\n",
            "403/403 [==============================] - 3s 8ms/step - loss: 2.3529 - val_loss: 2.7885\n",
            "\n",
            "Epoch 00042: val_loss did not improve from 2.78598\n",
            "Epoch 43/50\n",
            "403/403 [==============================] - 3s 8ms/step - loss: 2.3348 - val_loss: 2.7739\n",
            "\n",
            "Epoch 00043: val_loss improved from 2.78598 to 2.77394, saving model to /content/drive/MyDrive/music gen/best_model_wavenet.h5\n",
            "Epoch 44/50\n",
            "403/403 [==============================] - 3s 8ms/step - loss: 2.3266 - val_loss: 2.7734\n",
            "\n",
            "Epoch 00044: val_loss improved from 2.77394 to 2.77342, saving model to /content/drive/MyDrive/music gen/best_model_wavenet.h5\n",
            "Epoch 45/50\n",
            "403/403 [==============================] - 3s 8ms/step - loss: 2.3286 - val_loss: 2.7671\n",
            "\n",
            "Epoch 00045: val_loss improved from 2.77342 to 2.76707, saving model to /content/drive/MyDrive/music gen/best_model_wavenet.h5\n",
            "Epoch 46/50\n",
            "403/403 [==============================] - 3s 8ms/step - loss: 2.3280 - val_loss: 2.7623\n",
            "\n",
            "Epoch 00046: val_loss improved from 2.76707 to 2.76228, saving model to /content/drive/MyDrive/music gen/best_model_wavenet.h5\n",
            "Epoch 47/50\n",
            "403/403 [==============================] - 3s 8ms/step - loss: 2.3075 - val_loss: 2.7594\n",
            "\n",
            "Epoch 00047: val_loss improved from 2.76228 to 2.75940, saving model to /content/drive/MyDrive/music gen/best_model_wavenet.h5\n",
            "Epoch 48/50\n",
            "403/403 [==============================] - 3s 8ms/step - loss: 2.3142 - val_loss: 2.7512\n",
            "\n",
            "Epoch 00048: val_loss improved from 2.75940 to 2.75120, saving model to /content/drive/MyDrive/music gen/best_model_wavenet.h5\n",
            "Epoch 49/50\n",
            "403/403 [==============================] - 3s 8ms/step - loss: 2.2939 - val_loss: 2.7530\n",
            "\n",
            "Epoch 00049: val_loss did not improve from 2.75120\n",
            "Epoch 50/50\n",
            "403/403 [==============================] - 3s 8ms/step - loss: 2.3059 - val_loss: 2.7438\n",
            "\n",
            "Epoch 00050: val_loss improved from 2.75120 to 2.74382, saving model to /content/drive/MyDrive/music gen/best_model_wavenet.h5\n"
          ],
          "name": "stdout"
        }
      ]
    },
    {
      "cell_type": "code",
      "metadata": {
        "id": "ZNXTXyr3A31f"
      },
      "source": [
        "# loading best model\n",
        "model = load_model('/content/drive/MyDrive/music gen/best_model_lstm.h5')"
      ],
      "execution_count": null,
      "outputs": []
    },
    {
      "cell_type": "markdown",
      "metadata": {
        "id": "aYfFEtlTCB67"
      },
      "source": [
        "### Its time to compose our own music now."
      ]
    },
    {
      "cell_type": "code",
      "metadata": {
        "colab": {
          "base_uri": "https://localhost:8080/"
        },
        "id": "q66jAn-vByPe",
        "outputId": "ed73d193-3404-493a-81ce-885985c992c1"
      },
      "source": [
        "import random\n",
        "ind = np.random.randint(0, len(x_val)-1) # will output any random index in x_val\n",
        "\n",
        "random_music = x_val[ind]\n",
        "\n",
        "predictions = []\n",
        "\n",
        "for i in range(20):\n",
        "\n",
        "  random_music = random_music.reshape(1, no_of_timesteps)\n",
        "\n",
        "  prob = model.predict(random_music)[0]\n",
        "  y_pred = np.argmax(prob, axis = 0)\n",
        "  predictions.append(y_pred)\n",
        "\n",
        "  random_music = np.insert(random_music[0],len(random_music[0]),y_pred)\n",
        "  random_music = random_music[1:]\n",
        "\n",
        "print(predictions)\n"
      ],
      "execution_count": null,
      "outputs": [
        {
          "output_type": "stream",
          "text": [
            "[2, 126, 126, 51, 126, 51, 126, 126, 51, 3, 126, 126, 133, 48, 4, 126, 126, 133, 126, 98]\n"
          ],
          "name": "stdout"
        }
      ]
    },
    {
      "cell_type": "markdown",
      "metadata": {
        "id": "2UFD0T8MEClq"
      },
      "source": [
        "### Now, we will convert the integers back into the notes"
      ]
    },
    {
      "cell_type": "code",
      "metadata": {
        "id": "ObkH28F0D8v8"
      },
      "source": [
        "x_int_to_note = dict((number, note_) for number, note_ in enumerate(unique_x)) \n",
        "predicted_notes = [x_int_to_note[i] for i in predictions]"
      ],
      "execution_count": null,
      "outputs": []
    },
    {
      "cell_type": "code",
      "metadata": {
        "id": "hf4_Nnj8EG0r"
      },
      "source": [
        "def convert_to_midi(prediction_output):\n",
        "   \n",
        "    offset = 0\n",
        "    output_notes = []\n",
        "\n",
        "    # create note and chord objects based on the values generated by the model\n",
        "    for pattern in prediction_output:\n",
        "        \n",
        "        # pattern is a chord\n",
        "        if ('.' in pattern) or pattern.isdigit():\n",
        "            notes_in_chord = pattern.split('.')\n",
        "            notes = []\n",
        "            for current_note in notes_in_chord:\n",
        "                \n",
        "                cn=int(current_note)\n",
        "                new_note = note.Note(cn)\n",
        "                new_note.storedInstrument = instrument.Piano()\n",
        "                notes.append(new_note)\n",
        "                \n",
        "            new_chord = chord.Chord(notes)\n",
        "            new_chord.offset = offset\n",
        "            output_notes.append(new_chord)\n",
        "            \n",
        "        # pattern is a note\n",
        "        else:\n",
        "            \n",
        "            new_note = note.Note(pattern)\n",
        "            new_note.offset = offset\n",
        "            new_note.storedInstrument = instrument.Piano()\n",
        "            output_notes.append(new_note)\n",
        "\n",
        "        # increase offset each iteration so that notes do not stack\n",
        "        offset += 1\n",
        "    midi_stream = stream.Stream(output_notes)\n",
        "    midi_stream.write('midi', fp='/content/drive/MyDrive/music gen/generated_music.mid')"
      ],
      "execution_count": null,
      "outputs": []
    },
    {
      "cell_type": "code",
      "metadata": {
        "id": "83yGc0mBELxM"
      },
      "source": [
        "convert_to_midi(predicted_notes)"
      ],
      "execution_count": null,
      "outputs": []
    },
    {
      "cell_type": "code",
      "metadata": {
        "id": "ZsLdNTHmEPhI"
      },
      "source": [
        ""
      ],
      "execution_count": null,
      "outputs": []
    },
    {
      "cell_type": "code",
      "metadata": {
        "id": "noW-Tv4IGBZl"
      },
      "source": [
        ""
      ],
      "execution_count": null,
      "outputs": []
    }
  ]
}